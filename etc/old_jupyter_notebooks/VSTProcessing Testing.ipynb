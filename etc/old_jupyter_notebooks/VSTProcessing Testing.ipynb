{
 "cells": [
  {
   "cell_type": "markdown",
   "metadata": {},
   "source": [
    "### Imports"
   ]
  },
  {
   "cell_type": "code",
   "execution_count": 2,
   "metadata": {},
   "outputs": [],
   "source": [
    "#system libraries\n",
    "import sys\n",
    "import os\n",
    "import glob\n",
    "import wave\n",
    "\n",
    "#some cool libraries\n",
    "import scipy\n",
    "import scipy.io.wavfile\n",
    "import scipy.signal\n",
    "import numpy as np\n",
    "import matplotlib.pyplot as plt\n",
    "import pyaudio\n",
    "import resampy\n",
    "import wx\n",
    "\n",
    "#some weird legacy libraries\n",
    "#import pyvst\n",
    "from pyvst.vstplugin import *"
   ]
  },
  {
   "cell_type": "markdown",
   "metadata": {},
   "source": [
    "### Global Settings"
   ]
  },
  {
   "cell_type": "code",
   "execution_count": 3,
   "metadata": {},
   "outputs": [],
   "source": [
    "SAMPLERATE = 44100\n",
    "BLOCKSIZE = 2048\n",
    "PADDING = 5.0 #seconds to run plugin after main sample already cut off (reverb..)\n",
    "VSTPATH = \"D:/VST64/Amplifier/Guitar Rig 5.dll\"\n",
    "#VSTPATH = \"D:/VST64/Distortion/CamelCrusher.dll\"\n",
    "#VSTPATH = \"D:/VST32/Guitar Rig 5.dll\"\n",
    "PYA = pyaudio.PyAudio()"
   ]
  },
  {
   "cell_type": "markdown",
   "metadata": {},
   "source": [
    "### Functions"
   ]
  },
  {
   "cell_type": "code",
   "execution_count": 4,
   "metadata": {},
   "outputs": [],
   "source": [
    "def isMono(data):\n",
    "    if data.ndim == 1:\n",
    "        return True\n",
    "    elif data.shape[1] == 2:\n",
    "        return False\n",
    "    else:\n",
    "        raise Exception('Excuse me what the fuck, Code: 0xQWERTY')\n",
    "    \n",
    "def assertIsMono(data):\n",
    "    if not isMono(data):\n",
    "        raise Exception('Excuse me what the fuck, Code: -1')\n",
    "\n",
    "def isNonZero(mono_data):\n",
    "    assertIsMono(mono_data)\n",
    "    return mono_data[mono_data!=0].shape[0] != 0\n",
    "\n",
    "def assertIsNonZero(mono_data):\n",
    "    if not isNonZero(data):\n",
    "        raise Exception('Excuse me what the fuck, Code: NUL')    \n",
    "        \n",
    "def convert_to_float(mono_data, destination_type=numpy.float32):\n",
    "    # From SciPy Docu:\n",
    "    # WAV format                Min        Max            NumPy dtype\n",
    "    # 32-bit floating-point    -1.0        +1.0            float32\n",
    "    # 32-bit PCM            -2147483648    +2147483647    int32\n",
    "    # 16-bit PCM            -32768            +32767        int16\n",
    "    # 8-bit PCM                0            255            uint8\n",
    "    # VST processes floats. Let's convert it first\n",
    "    assertIsMono(mono_data)\n",
    "    olddatatype = mono_data.dtype\n",
    "    if olddatatype == destination_type:\n",
    "        return mono_data, olddatatype\n",
    "    elif olddatatype == 'int16':\n",
    "        mono_data = mono_data/32767\n",
    "    elif olddatatype == 'int32':\n",
    "        mono_data = mono_data/2147483647\n",
    "    elif  olddatatype == 'uint8':\n",
    "        mono_data = mono_data/255\n",
    "    mono_data = np.array(mono_data, dtype=destination_type)\n",
    "    return mono_data, olddatatype\n",
    "\n",
    "def convert_float_to_other_type(mono_data, datatype):\n",
    "    assertIsMono(mono_data)\n",
    "    curdatatype = mono_data.dtype\n",
    "    if curdatatype != numpy.float32 and curdatatype != numpy.float64:\n",
    "        print('Excuse me what the fuck, Warning Code: 0x00001')\n",
    "        return mono_data\n",
    "    if datatype == 'int16':\n",
    "        mono_data = mono_data*32767\n",
    "    elif datatype == 'int32':\n",
    "        mono_data = mono_data*2147483647\n",
    "    elif datatype == 'uint8':\n",
    "        mono_data = mono_data*255\n",
    "    mono_data = mono_data.round() #minimal quantization error possible. may need some dithering in the end TODO\n",
    "    mono_data = mono_data.astype(datatype)\n",
    "    return mono_data\n",
    "\n",
    "def raise_gui(plugin):\n",
    "    app = wx.App()\n",
    "    frame = wx.Frame(None, -1, \"Plugin editor\")\n",
    "    plugin.open_edit(frame.GetHandle())\n",
    "    rect = plugin.get_erect()\n",
    "    frame.SetClientSize((rect.right, rect.bottom))\n",
    "    frame.Show()\n",
    "    app.MainLoop()\n",
    "    \n",
    "def plot_stft(mono_data):\n",
    "    assertIsMono(mono_data)\n",
    "    if mono_data.dtype == numpy.float32 or mono_data.dtype == numpy.float64:\n",
    "        mono_data = convert_float_to_other_type(mono_data, 'int16')\n",
    "    \n",
    "    f, t, Zxx = scipy.signal.stft(mono_data,SAMPLERATE)\n",
    "    amp = 2 * np.sqrt(2)\n",
    "    plt.pcolormesh(t, f, np.abs(Zxx), vmin=0, vmax=amp)\n",
    "    #plt.specgram(Zxx, Fs=SAMPLERATE)\n",
    "    plt.yscale('log', nonposy='clip')\n",
    "    axes = plt.gca()\n",
    "    axes.set_ylim([20,20000])\n",
    "    plt.title('STFT Magnitude')\n",
    "    plt.ylabel('Frequency [Hz]')\n",
    "    plt.xlabel('Time [sec]')\n",
    "    plt.show()\n",
    "    \n",
    "def play_wav_file(filepath):\n",
    "    wf = wave.open(filepath, 'rb') #read mode\n",
    "    stream = PYA.open(format=PYA.get_format_from_width(wf.getsampwidth()),\n",
    "                    channels=wf.getnchannels(),\n",
    "                    rate=wf.getframerate(),\n",
    "                    output=True)\n",
    "    dataframes = wf.readframes(BLOCKSIZE)\n",
    "    while data != '':\n",
    "        stream.write(dataframes)\n",
    "        dataframes = wf.readframes(BLOCKSIZE)\n",
    "    stream.stop_stream()\n",
    "    stream.close()\n",
    "    \n",
    "def resample(mono_data, old_f, new_f):\n",
    "    assertIsMono(mono_data)\n",
    "    return resampy.resample(mono_data, old_f, new_f)"
   ]
  },
  {
   "cell_type": "markdown",
   "metadata": {},
   "source": [
    "### Load plugin"
   ]
  },
  {
   "cell_type": "markdown",
   "metadata": {},
   "source": [
    "##### Load with stupid vst framework"
   ]
  },
  {
   "cell_type": "code",
   "execution_count": 5,
   "metadata": {},
   "outputs": [],
   "source": [
    "plugin = VSTPlugin(VSTPATH)\n",
    "plugin.open()\n",
    "plugin.set_sample_rate(SAMPLERATE)\n",
    "plugin.set_block_size(2048)\n",
    "if plugin.has_editor():\n",
    "    raise_gui(plugin)\n",
    "\n",
    "#The plugin should be open now. Setup your effect and close it again :)\n",
    "\n",
    "plugin.resume()\n",
    "\n",
    "if plugin.can_process_double():\n",
    "    #print(\"Testing with doubles (64bits)\")\n",
    "    datatype = numpy.float64\n",
    "else:\n",
    "    #print(\"Testing with floats (32bits)\")\n",
    "    datatype = numpy.float32"
   ]
  },
  {
   "cell_type": "markdown",
   "metadata": {},
   "source": [
    "### Load samples"
   ]
  },
  {
   "cell_type": "markdown",
   "metadata": {},
   "source": [
    "##### Find all files in inputpath"
   ]
  },
  {
   "cell_type": "code",
   "execution_count": 6,
   "metadata": {},
   "outputs": [
    {
     "name": "stdout",
     "output_type": "stream",
     "text": [
      "32\n"
     ]
    },
    {
     "data": {
      "text/plain": [
       "'samples/Processed/Guitar Rig 5/Riff Rocker/'"
      ]
     },
     "execution_count": 6,
     "metadata": {},
     "output_type": "execute_result"
    }
   ],
   "source": [
    "inputdir = 'samples/ToProcess/'\n",
    "savedir = 'samples/Processed/'\n",
    "\n",
    "savedir = ''.join([savedir,plugin.get_name().decode(\"utf-8\"),'/',plugin.get_program_name().decode(\"utf-8\"),'/'])\n",
    "savedir"
   ]
  },
  {
   "cell_type": "code",
   "execution_count": null,
   "metadata": {},
   "outputs": [],
   "source": []
  },
  {
   "cell_type": "markdown",
   "metadata": {},
   "source": [
    "##### Load file"
   ]
  },
  {
   "cell_type": "code",
   "execution_count": 7,
   "metadata": {},
   "outputs": [],
   "source": [
    "#OLD METHOD\n",
    "#fileList = glob.glob(inputdir+\"*.wav\")\n",
    "#for inputfilepath in fileList:\n",
    "#    #print(inputfilepath)\n",
    "#    #Some neat things you can add to filenames..\n",
    "#    #plugin.get_name(),plugin.get_vendor(),plugin.get_product()\n",
    "#    #plugin.get_number_of_programs(),plugin.get_program_name(),\n",
    "#    #plugin.number_of_inputs, plugin.number_of_outputs\n",
    "#    filebasepath = os.path.basename(inputfilepath)\n",
    "#    savepath = savedir+filebasepath"
   ]
  },
  {
   "cell_type": "code",
   "execution_count": 8,
   "metadata": {},
   "outputs": [],
   "source": [
    "for root, dirs, files in os.walk(inputdir, topdown=False):\n",
    "    for name in files:\n",
    "        inputfilepath = os.path.join(root, name)\n",
    "        savefilepath = inputfilepath.replace(inputdir,savedir)\n",
    "        savedirpath = os.path.dirname(savefilepath)\n",
    "        if not os.path.exists(savedirpath):\n",
    "            os.makedirs(savedirpath)"
   ]
  },
  {
   "cell_type": "code",
   "execution_count": 9,
   "metadata": {},
   "outputs": [
    {
     "name": "stdout",
     "output_type": "stream",
     "text": [
      "Mono signal found\n"
     ]
    }
   ],
   "source": [
    "rate, data = scipy.io.wavfile.read(inputfilepath)\n",
    "\n",
    "isStereo = not isMono(data)\n",
    "\n",
    "if isStereo:\n",
    "    print('Stereo signal found')\n",
    "    dataL = data[:,0]\n",
    "    dataR = data[:,1]\n",
    "else:\n",
    "    dataL = data\n",
    "    dataR = np.copy(data)\n",
    "    print('Mono signal found')\n",
    "    \n",
    "#Zero Padding after sample\n",
    "padLength = round(PADDING*SAMPLERATE)\n",
    "dataL = np.pad(dataL, (0,padLength), 'constant')\n",
    "dataR = np.pad(dataR, (0,padLength), 'constant')\n",
    "\n",
    "dataL, olddatatype = convert_to_float(dataL, datatype)\n",
    "dataR, olddatatype = convert_to_float(dataR, datatype)"
   ]
  },
  {
   "cell_type": "code",
   "execution_count": 10,
   "metadata": {},
   "outputs": [
    {
     "data": {
      "image/png": "[encoded data removed]",
      "text/plain": [
       "<Figure size 432x288 with 1 Axes>"
      ]
     },
     "metadata": {
      "needs_background": "light"
     },
     "output_type": "display_data"
    },
    {
     "data": {
      "image/png": "[encoded data removed]",
      "text/plain": [
       "<Figure size 432x288 with 1 Axes>"
      ]
     },
     "metadata": {
      "needs_background": "light"
     },
     "output_type": "display_data"
    }
   ],
   "source": [
    "#Have a look on the spectra\n",
    "plot_stft(dataL)\n",
    "plot_stft(dataR)\n",
    "\n"
   ]
  },
  {
   "cell_type": "code",
   "execution_count": 11,
   "metadata": {},
   "outputs": [],
   "source": [
    "#Normalization\n",
    "if(rate != SAMPLERATE):\n",
    "    print(\"resampling\")\n",
    "    dataL = resample(dataL, rate, 8000)\n",
    "    dataR = resample(dataR, rate, 8000)"
   ]
  },
  {
   "cell_type": "code",
   "execution_count": 12,
   "metadata": {},
   "outputs": [],
   "source": [
    "#Init Inputs\n",
    "if plugin.number_of_inputs == 1:\n",
    "    input1 = dataL #L\n",
    "elif plugin.number_of_inputs == 2:\n",
    "    input1 = dataL #L\n",
    "    input2 = dataR #R\n",
    "elif plugin.number_of_inputs == 4:\n",
    "    input1 = dataL #L\n",
    "    input2 = dataR #R\n",
    "    input3 = numpy.zeros(input1.shape, dtype=datatype) #Sidechain L?\n",
    "    input4 = numpy.zeros(input1.shape, dtype=datatype) #Sidechain R?\n",
    "else:\n",
    "    raise Exception('Excuse me what the fuck, Code: I')\n",
    "#Check if we have some data inside or not\n",
    "assertIsNonZero(input1)\n",
    "assertIsNonZero(input2)"
   ]
  },
  {
   "cell_type": "markdown",
   "metadata": {},
   "source": [
    "### Process Audio"
   ]
  },
  {
   "cell_type": "code",
   "execution_count": 13,
   "metadata": {
    "scrolled": true
   },
   "outputs": [],
   "source": [
    "numSamples = input1.shape[0] # 'Length' of sample\n",
    "output = numpy.zeros((plugin.number_of_outputs, numSamples), dtype=datatype)\n",
    "\n",
    "for i in range(int(numSamples/BLOCKSIZE)):\n",
    "    idx_from = i*BLOCKSIZE\n",
    "    idx_to = (i+1)*BLOCKSIZE\n",
    "    \n",
    "    if plugin.number_of_inputs == 1:\n",
    "        input_samples = [input1[idx_from:idx_to]]\n",
    "    if plugin.number_of_inputs == 2:\n",
    "        input_samples = [input1[idx_from:idx_to], input2[idx_from:idx_to]]\n",
    "    if plugin.number_of_inputs == 4:\n",
    "        input_samples = [input1[idx_from:idx_to], input2[idx_from:idx_to], input3[idx_from:idx_to], input4[idx_from:idx_to]]\n",
    "    \n",
    "    plugin.process(input_samples * int(plugin.number_of_inputs / 2), output[:, idx_from:idx_to])\n"
   ]
  },
  {
   "cell_type": "code",
   "execution_count": 52,
   "metadata": {},
   "outputs": [
    {
     "data": {
      "image/png": "[encoded data removed]",
      "text/plain": [
       "<Figure size 432x288 with 1 Axes>"
      ]
     },
     "metadata": {
      "needs_background": "light"
     },
     "output_type": "display_data"
    },
    {
     "data": {
      "text/plain": [
       "array([0., 0., 0., ..., 0., 0., 0.], dtype=float32)"
      ]
     },
     "execution_count": 52,
     "metadata": {},
     "output_type": "execute_result"
    }
   ],
   "source": [
    "plot_stft(output[0])\n",
    "output[0]"
   ]
  },
  {
   "cell_type": "code",
   "execution_count": 53,
   "metadata": {},
   "outputs": [],
   "source": [
    "#Outputs should be nonzero..\n",
    "assert(output[0][output[0]!=0].shape[0] != 0)\n",
    "assert(output[1][output[1]!=0].shape[0] != 0)"
   ]
  },
  {
   "cell_type": "markdown",
   "metadata": {},
   "source": [
    "### Post Processing"
   ]
  },
  {
   "cell_type": "markdown",
   "metadata": {},
   "source": [
    "##### Crop Part before Hit"
   ]
  },
  {
   "cell_type": "code",
   "execution_count": 115,
   "metadata": {},
   "outputs": [],
   "source": [
    "#TODO"
   ]
  },
  {
   "cell_type": "code",
   "execution_count": null,
   "metadata": {},
   "outputs": [],
   "source": []
  },
  {
   "cell_type": "code",
   "execution_count": null,
   "metadata": {},
   "outputs": [],
   "source": []
  },
  {
   "cell_type": "code",
   "execution_count": null,
   "metadata": {},
   "outputs": [],
   "source": [
    "\n"
   ]
  },
  {
   "cell_type": "markdown",
   "metadata": {},
   "source": [
    "##### Crop Remainder"
   ]
  },
  {
   "cell_type": "code",
   "execution_count": 66,
   "metadata": {},
   "outputs": [],
   "source": [
    "#output[0].shape"
   ]
  },
  {
   "cell_type": "code",
   "execution_count": 64,
   "metadata": {},
   "outputs": [],
   "source": [
    "#output1 = output[0]\n",
    "#output1[np.abs(output1) < 10*np.finfo(datatype).eps] = 0\n",
    "#output1 = numpy.trim_zeros(output1,'b')"
   ]
  },
  {
   "cell_type": "code",
   "execution_count": 67,
   "metadata": {},
   "outputs": [],
   "source": [
    "#plot_stft(output1)"
   ]
  },
  {
   "cell_type": "code",
   "execution_count": 68,
   "metadata": {},
   "outputs": [],
   "source": [
    "#output1.shape,output1, np.finfo(datatype).eps"
   ]
  },
  {
   "cell_type": "code",
   "execution_count": null,
   "metadata": {},
   "outputs": [],
   "source": [
    "#Assume we have two outputs. If not... rip..\n",
    "#Trim Zeros from behind\n",
    "output1 = output[0]\n",
    "output2 = output[1]\n",
    "output1[np.abs(output1) < 10*np.finfo(datatype).eps] = 0\n",
    "output2[np.abs(output2) < 10*np.finfo(datatype).eps] = 0\n",
    "output1 = numpy.trim_zeros(output[0],'b')\n",
    "output2 = numpy.trim_zeros(output[1],'b')\n",
    "maxlength = max(output1.shape[0],output2.shape[0]) #both are not same size not. fill the shorter one with zeros\n",
    "output1 = np.pad(output1,(0,maxlength-output1.shape[0]),'constant')\n",
    "output2 = np.pad(output2,(0,maxlength-output2.shape[0]),'constant')\n",
    "#Convert to old datatype\n",
    "output1 = convert_float_to_other_type(output1, olddatatype)\n",
    "output2 = convert_float_to_other_type(output2, olddatatype)"
   ]
  },
  {
   "cell_type": "code",
   "execution_count": null,
   "metadata": {},
   "outputs": [],
   "source": []
  },
  {
   "cell_type": "markdown",
   "metadata": {},
   "source": [
    "### Save file"
   ]
  },
  {
   "cell_type": "code",
   "execution_count": 252,
   "metadata": {},
   "outputs": [],
   "source": [
    "#Convert to old datatype\n",
    "output1 = convert_float_to_other_type(output1, olddatatype)\n",
    "output2 = convert_float_to_other_type(output2, olddatatype)\n",
    "\n",
    "outputdata = np.array([output1, output2]).T"
   ]
  },
  {
   "cell_type": "code",
   "execution_count": 29,
   "metadata": {},
   "outputs": [],
   "source": []
  },
  {
   "cell_type": "code",
   "execution_count": 258,
   "metadata": {},
   "outputs": [],
   "source": [
    "scipy.io.wavfile.write(savefilepath, SAMPLERATE, outputdata)"
   ]
  },
  {
   "cell_type": "code",
   "execution_count": null,
   "metadata": {},
   "outputs": [],
   "source": []
  },
  {
   "cell_type": "markdown",
   "metadata": {},
   "source": [
    "### Play the files (Optional)"
   ]
  },
  {
   "cell_type": "code",
   "execution_count": 247,
   "metadata": {},
   "outputs": [
    {
     "name": "stderr",
     "output_type": "stream",
     "text": [
      "d:\\codingworkspace\\pythonaudioprocessing\\venv\\lib\\site-packages\\ipykernel_launcher.py:91: FutureWarning: elementwise comparison failed; returning scalar instead, but in the future will perform elementwise comparison\n"
     ]
    },
    {
     "ename": "KeyboardInterrupt",
     "evalue": "",
     "output_type": "error",
     "traceback": [
      "\u001b[1;31m---------------------------------------------------------------------------\u001b[0m",
      "\u001b[1;31mKeyboardInterrupt\u001b[0m                         Traceback (most recent call last)",
      "\u001b[1;32m<ipython-input-247-9fbed477dd3a>\u001b[0m in \u001b[0;36m<module>\u001b[1;34m\u001b[0m\n\u001b[1;32m----> 1\u001b[1;33m \u001b[0mplay_wav_file\u001b[0m\u001b[1;33m(\u001b[0m\u001b[0minputfilepath\u001b[0m\u001b[1;33m)\u001b[0m\u001b[1;33m\u001b[0m\u001b[1;33m\u001b[0m\u001b[0m\n\u001b[0m",
      "\u001b[1;32m<ipython-input-125-7d70141bd7d8>\u001b[0m in \u001b[0;36mplay_wav_file\u001b[1;34m(filepath)\u001b[0m\n\u001b[0;32m     90\u001b[0m     \u001b[0mdataframes\u001b[0m \u001b[1;33m=\u001b[0m \u001b[0mwf\u001b[0m\u001b[1;33m.\u001b[0m\u001b[0mreadframes\u001b[0m\u001b[1;33m(\u001b[0m\u001b[0mBLOCKSIZE\u001b[0m\u001b[1;33m)\u001b[0m\u001b[1;33m\u001b[0m\u001b[1;33m\u001b[0m\u001b[0m\n\u001b[0;32m     91\u001b[0m     \u001b[1;32mwhile\u001b[0m \u001b[0mdata\u001b[0m \u001b[1;33m!=\u001b[0m \u001b[1;34m''\u001b[0m\u001b[1;33m:\u001b[0m\u001b[1;33m\u001b[0m\u001b[1;33m\u001b[0m\u001b[0m\n\u001b[1;32m---> 92\u001b[1;33m         \u001b[0mstream\u001b[0m\u001b[1;33m.\u001b[0m\u001b[0mwrite\u001b[0m\u001b[1;33m(\u001b[0m\u001b[0mdataframes\u001b[0m\u001b[1;33m)\u001b[0m\u001b[1;33m\u001b[0m\u001b[1;33m\u001b[0m\u001b[0m\n\u001b[0m\u001b[0;32m     93\u001b[0m         \u001b[0mdataframes\u001b[0m \u001b[1;33m=\u001b[0m \u001b[0mwf\u001b[0m\u001b[1;33m.\u001b[0m\u001b[0mreadframes\u001b[0m\u001b[1;33m(\u001b[0m\u001b[0mBLOCKSIZE\u001b[0m\u001b[1;33m)\u001b[0m\u001b[1;33m\u001b[0m\u001b[1;33m\u001b[0m\u001b[0m\n\u001b[0;32m     94\u001b[0m     \u001b[0mstream\u001b[0m\u001b[1;33m.\u001b[0m\u001b[0mstop_stream\u001b[0m\u001b[1;33m(\u001b[0m\u001b[1;33m)\u001b[0m\u001b[1;33m\u001b[0m\u001b[1;33m\u001b[0m\u001b[0m\n",
      "\u001b[1;32md:\\codingworkspace\\pythonaudioprocessing\\venv\\lib\\site-packages\\pyaudio.py\u001b[0m in \u001b[0;36mwrite\u001b[1;34m(self, frames, num_frames, exception_on_underflow)\u001b[0m\n\u001b[0;32m    584\u001b[0m \u001b[1;33m\u001b[0m\u001b[0m\n\u001b[0;32m    585\u001b[0m         pa.write_stream(self._stream, frames, num_frames,\n\u001b[1;32m--> 586\u001b[1;33m                         exception_on_underflow)\n\u001b[0m\u001b[0;32m    587\u001b[0m \u001b[1;33m\u001b[0m\u001b[0m\n\u001b[0;32m    588\u001b[0m \u001b[1;33m\u001b[0m\u001b[0m\n",
      "\u001b[1;31mKeyboardInterrupt\u001b[0m: "
     ]
    }
   ],
   "source": [
    "play_wav_file(inputfilepath)"
   ]
  },
  {
   "cell_type": "code",
   "execution_count": 259,
   "metadata": {},
   "outputs": [
    {
     "name": "stderr",
     "output_type": "stream",
     "text": [
      "d:\\codingworkspace\\pythonaudioprocessing\\venv\\lib\\site-packages\\ipykernel_launcher.py:91: FutureWarning: elementwise comparison failed; returning scalar instead, but in the future will perform elementwise comparison\n"
     ]
    },
    {
     "ename": "KeyboardInterrupt",
     "evalue": "",
     "output_type": "error",
     "traceback": [
      "\u001b[1;31m---------------------------------------------------------------------------\u001b[0m",
      "\u001b[1;31mKeyboardInterrupt\u001b[0m                         Traceback (most recent call last)",
      "\u001b[1;32m<ipython-input-259-be198e63d9f0>\u001b[0m in \u001b[0;36m<module>\u001b[1;34m\u001b[0m\n\u001b[1;32m----> 1\u001b[1;33m \u001b[0mplay_wav_file\u001b[0m\u001b[1;33m(\u001b[0m\u001b[0msavepath\u001b[0m\u001b[1;33m)\u001b[0m\u001b[1;33m\u001b[0m\u001b[1;33m\u001b[0m\u001b[0m\n\u001b[0m",
      "\u001b[1;32m<ipython-input-125-7d70141bd7d8>\u001b[0m in \u001b[0;36mplay_wav_file\u001b[1;34m(filepath)\u001b[0m\n\u001b[0;32m     90\u001b[0m     \u001b[0mdataframes\u001b[0m \u001b[1;33m=\u001b[0m \u001b[0mwf\u001b[0m\u001b[1;33m.\u001b[0m\u001b[0mreadframes\u001b[0m\u001b[1;33m(\u001b[0m\u001b[0mBLOCKSIZE\u001b[0m\u001b[1;33m)\u001b[0m\u001b[1;33m\u001b[0m\u001b[1;33m\u001b[0m\u001b[0m\n\u001b[0;32m     91\u001b[0m     \u001b[1;32mwhile\u001b[0m \u001b[0mdata\u001b[0m \u001b[1;33m!=\u001b[0m \u001b[1;34m''\u001b[0m\u001b[1;33m:\u001b[0m\u001b[1;33m\u001b[0m\u001b[1;33m\u001b[0m\u001b[0m\n\u001b[1;32m---> 92\u001b[1;33m         \u001b[0mstream\u001b[0m\u001b[1;33m.\u001b[0m\u001b[0mwrite\u001b[0m\u001b[1;33m(\u001b[0m\u001b[0mdataframes\u001b[0m\u001b[1;33m)\u001b[0m\u001b[1;33m\u001b[0m\u001b[1;33m\u001b[0m\u001b[0m\n\u001b[0m\u001b[0;32m     93\u001b[0m         \u001b[0mdataframes\u001b[0m \u001b[1;33m=\u001b[0m \u001b[0mwf\u001b[0m\u001b[1;33m.\u001b[0m\u001b[0mreadframes\u001b[0m\u001b[1;33m(\u001b[0m\u001b[0mBLOCKSIZE\u001b[0m\u001b[1;33m)\u001b[0m\u001b[1;33m\u001b[0m\u001b[1;33m\u001b[0m\u001b[0m\n\u001b[0;32m     94\u001b[0m     \u001b[0mstream\u001b[0m\u001b[1;33m.\u001b[0m\u001b[0mstop_stream\u001b[0m\u001b[1;33m(\u001b[0m\u001b[1;33m)\u001b[0m\u001b[1;33m\u001b[0m\u001b[1;33m\u001b[0m\u001b[0m\n",
      "\u001b[1;32md:\\codingworkspace\\pythonaudioprocessing\\venv\\lib\\site-packages\\pyaudio.py\u001b[0m in \u001b[0;36mwrite\u001b[1;34m(self, frames, num_frames, exception_on_underflow)\u001b[0m\n\u001b[0;32m    584\u001b[0m \u001b[1;33m\u001b[0m\u001b[0m\n\u001b[0;32m    585\u001b[0m         pa.write_stream(self._stream, frames, num_frames,\n\u001b[1;32m--> 586\u001b[1;33m                         exception_on_underflow)\n\u001b[0m\u001b[0;32m    587\u001b[0m \u001b[1;33m\u001b[0m\u001b[0m\n\u001b[0;32m    588\u001b[0m \u001b[1;33m\u001b[0m\u001b[0m\n",
      "\u001b[1;31mKeyboardInterrupt\u001b[0m: "
     ]
    }
   ],
   "source": [
    "play_wav_file(savepath)"
   ]
  },
  {
   "cell_type": "code",
   "execution_count": null,
   "metadata": {},
   "outputs": [],
   "source": []
  },
  {
   "cell_type": "markdown",
   "metadata": {},
   "source": [
    "### Close Plugin"
   ]
  },
  {
   "cell_type": "code",
   "execution_count": 33,
   "metadata": {},
   "outputs": [],
   "source": [
    "plugin.suspend()"
   ]
  },
  {
   "cell_type": "markdown",
   "metadata": {},
   "source": [
    "### Close PyAudio Host"
   ]
  },
  {
   "cell_type": "code",
   "execution_count": 34,
   "metadata": {},
   "outputs": [],
   "source": [
    "PYA.terminate()"
   ]
  }
 ],
 "metadata": {
  "kernelspec": {
   "display_name": "Python 3",
   "language": "python",
   "name": "python3"
  },
  "language_info": {
   "codemirror_mode": {
    "name": "ipython",
    "version": 3
   },
   "file_extension": ".py",
   "mimetype": "text/x-python",
   "name": "python",
   "nbconvert_exporter": "python",
   "pygments_lexer": "ipython3",
   "version": "3.6.8"
  }
 },
 "nbformat": 4,
 "nbformat_minor": 2
}
